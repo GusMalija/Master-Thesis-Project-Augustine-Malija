{
  "nbformat": 4,
  "nbformat_minor": 0,
  "metadata": {
    "colab": {
      "name": "Baseline_SVM_Supervised.ipynb",
      "provenance": [],
      "collapsed_sections": [],
      "authorship_tag": "ABX9TyMGVF+aYO9+TOM/Z7mRVv0G",
      "include_colab_link": true
    },
    "kernelspec": {
      "display_name": "Python 3",
      "name": "python3"
    }
  },
  "cells": [
    {
      "cell_type": "markdown",
      "metadata": {
        "id": "view-in-github",
        "colab_type": "text"
      },
      "source": [
        "<a href=\"https://colab.research.google.com/github/GusMalija/Master-Thesis-Project-Augustine-Malija/blob/main/Baseline_SVM_Supervised_Learning.ipynb\" target=\"_parent\"><img src=\"https://colab.research.google.com/assets/colab-badge.svg\" alt=\"Open In Colab\"/></a>"
      ]
    },
    {
      "cell_type": "code",
      "metadata": {
        "colab": {
          "base_uri": "https://localhost:8080/"
        },
        "id": "oen0lLTJjEvp",
        "outputId": "51ff6bb4-48ab-4e22-b7d0-d489913fc554"
      },
      "source": [
        "#calling important libraries\n",
        "import pandas as pd #for data manipulation\n",
        "import numpy as np #for data manipulation\n",
        "import matplotlib as plt #for plotting\n",
        "import os #for ease of python system interaction\n",
        "import sys\n",
        "import re\n",
        "import nltk\n",
        "import time\n",
        "import dateutil\n",
        "import seaborn as sns\n",
        "nltk.download(\"stopwords\")\n",
        "import pickle\n",
        "from nltk.corpus import stopwords\n",
        "from sklearn.feature_extraction.text import TfidfVectorizer\n",
        "from sklearn.pipeline import Pipeline\n",
        "from sklearn.svm import SVC\n",
        "from sklearn import svm\n",
        "from sklearn.model_selection import GridSearchCV\n",
        "from sklearn.multiclass import OneVsRestClassifier\n",
        "from sklearn import svm\n",
        "from datetime import datetime, date\n",
        "from sklearn.semi_supervised import LabelSpreading\n",
        "from sklearn.model_selection import cross_val_score"
      ],
      "execution_count": 1,
      "outputs": [
        {
          "output_type": "stream",
          "text": [
            "[nltk_data] Downloading package stopwords to /root/nltk_data...\n",
            "[nltk_data]   Unzipping corpora/stopwords.zip.\n"
          ],
          "name": "stdout"
        }
      ]
    },
    {
      "cell_type": "code",
      "metadata": {
        "colab": {
          "base_uri": "https://localhost:8080/"
        },
        "id": "ZSfRHiZinjcz",
        "outputId": "86443f59-fb45-4928-bed3-24f8788bd28f"
      },
      "source": [
        "#retrieving the data\n",
        "url = \"https://raw.githubusercontent.com/GusMalija/Master-Thesis-Project-Augustine-Malija/main/Data/labeled_tweets_265_2021-04-23-trimmed.csv\"\n",
        "\n",
        "labeled_data = pd.read_csv(url)\n",
        "#checking the dataset features\n",
        "labeled_data.keys()\n",
        "labeled_data.shape"
      ],
      "execution_count": 2,
      "outputs": [
        {
          "output_type": "execute_result",
          "data": {
            "text/plain": [
              "(1329, 11)"
            ]
          },
          "metadata": {
            "tags": []
          },
          "execution_count": 2
        }
      ]
    },
    {
      "cell_type": "code",
      "metadata": {
        "colab": {
          "base_uri": "https://localhost:8080/",
          "height": 204
        },
        "id": "oEx2s0bjHZm6",
        "outputId": "27af46b0-36f4-484a-bd2e-b1a53f391567"
      },
      "source": [
        "#filtering out only relevant documents\n",
        "relevant = labeled_data[labeled_data.relevant == 1]\n",
        "relevant.head()"
      ],
      "execution_count": 3,
      "outputs": [
        {
          "output_type": "execute_result",
          "data": {
            "text/html": [
              "<div>\n",
              "<style scoped>\n",
              "    .dataframe tbody tr th:only-of-type {\n",
              "        vertical-align: middle;\n",
              "    }\n",
              "\n",
              "    .dataframe tbody tr th {\n",
              "        vertical-align: top;\n",
              "    }\n",
              "\n",
              "    .dataframe thead th {\n",
              "        text-align: right;\n",
              "    }\n",
              "</style>\n",
              "<table border=\"1\" class=\"dataframe\">\n",
              "  <thead>\n",
              "    <tr style=\"text-align: right;\">\n",
              "      <th></th>\n",
              "      <th>Unnamed: 0</th>\n",
              "      <th>tweet__id</th>\n",
              "      <th>tweet__text</th>\n",
              "      <th>user__username</th>\n",
              "      <th>tag__title</th>\n",
              "      <th>relevant</th>\n",
              "      <th>2 - In favor</th>\n",
              "      <th>2 - Against</th>\n",
              "      <th>2 - Neutral</th>\n",
              "      <th>3 - Yes</th>\n",
              "      <th>time_annotated</th>\n",
              "    </tr>\n",
              "  </thead>\n",
              "  <tbody>\n",
              "    <tr>\n",
              "      <th>0</th>\n",
              "      <td>0</td>\n",
              "      <td>1339644219015766016</td>\n",
              "      <td>JOB ALERT: Postdoctoral Opportunity: Climate C...</td>\n",
              "      <td>mala</td>\n",
              "      <td>Large sample of climate tweets 2</td>\n",
              "      <td>1</td>\n",
              "      <td>0</td>\n",
              "      <td>0</td>\n",
              "      <td>1</td>\n",
              "      <td>0</td>\n",
              "      <td>2021-04-01 20:23:56.815080+00:00</td>\n",
              "    </tr>\n",
              "    <tr>\n",
              "      <th>1</th>\n",
              "      <td>1</td>\n",
              "      <td>1189303279697780741</td>\n",
              "      <td>Whistleblower says CDC backed away from climat...</td>\n",
              "      <td>mala</td>\n",
              "      <td>Large sample of climate tweets 2</td>\n",
              "      <td>1</td>\n",
              "      <td>0</td>\n",
              "      <td>0</td>\n",
              "      <td>1</td>\n",
              "      <td>0</td>\n",
              "      <td>2021-04-01 20:23:49.298046+00:00</td>\n",
              "    </tr>\n",
              "    <tr>\n",
              "      <th>2</th>\n",
              "      <td>2</td>\n",
              "      <td>1088038576758104065</td>\n",
              "      <td>Facing changes — in economics, climate change ...</td>\n",
              "      <td>mala</td>\n",
              "      <td>Large sample of climate tweets 2</td>\n",
              "      <td>1</td>\n",
              "      <td>0</td>\n",
              "      <td>0</td>\n",
              "      <td>1</td>\n",
              "      <td>0</td>\n",
              "      <td>2021-04-01 20:23:29.477801+00:00</td>\n",
              "    </tr>\n",
              "    <tr>\n",
              "      <th>3</th>\n",
              "      <td>3</td>\n",
              "      <td>1200848190028693504</td>\n",
              "      <td>@CNN ...promoting \"Planetary emergency\" since ...</td>\n",
              "      <td>mala</td>\n",
              "      <td>Large sample of climate tweets 2</td>\n",
              "      <td>1</td>\n",
              "      <td>0</td>\n",
              "      <td>1</td>\n",
              "      <td>0</td>\n",
              "      <td>0</td>\n",
              "      <td>2021-04-01 20:23:21.248432+00:00</td>\n",
              "    </tr>\n",
              "    <tr>\n",
              "      <th>4</th>\n",
              "      <td>4</td>\n",
              "      <td>1314278326949892096</td>\n",
              "      <td>Recourse, Greenpeace, Earthlife Africa and Cen...</td>\n",
              "      <td>mala</td>\n",
              "      <td>Large sample of climate tweets 2</td>\n",
              "      <td>1</td>\n",
              "      <td>1</td>\n",
              "      <td>0</td>\n",
              "      <td>0</td>\n",
              "      <td>1</td>\n",
              "      <td>2021-04-01 20:22:59.123097+00:00</td>\n",
              "    </tr>\n",
              "  </tbody>\n",
              "</table>\n",
              "</div>"
            ],
            "text/plain": [
              "   Unnamed: 0            tweet__id  ... 3 - Yes                    time_annotated\n",
              "0           0  1339644219015766016  ...       0  2021-04-01 20:23:56.815080+00:00\n",
              "1           1  1189303279697780741  ...       0  2021-04-01 20:23:49.298046+00:00\n",
              "2           2  1088038576758104065  ...       0  2021-04-01 20:23:29.477801+00:00\n",
              "3           3  1200848190028693504  ...       0  2021-04-01 20:23:21.248432+00:00\n",
              "4           4  1314278326949892096  ...       1  2021-04-01 20:22:59.123097+00:00\n",
              "\n",
              "[5 rows x 11 columns]"
            ]
          },
          "metadata": {
            "tags": []
          },
          "execution_count": 3
        }
      ]
    },
    {
      "cell_type": "code",
      "metadata": {
        "colab": {
          "base_uri": "https://localhost:8080/",
          "height": 306
        },
        "id": "pYDaCKqhg8FN",
        "outputId": "45caab32-4f6c-44db-993c-34f0bab6319d"
      },
      "source": [
        "#adding a new column that assigns 1 for in favor, 2 for against and 3 for neutral\n",
        "conditions = [(relevant[\"2 - In favor\"].eq(1)),\n",
        "              (relevant[\"2 - Against\"].eq(1)),\n",
        "              (relevant[\"2 - Neutral\"].eq(1)),]\n",
        "choices = [\"1\",\"2\",\"3\"]\n",
        "#adding a new column\n",
        "relevant[\"classes\"] = np.select(conditions, choices)\n",
        "\n",
        "#filtering out zeros\n",
        "relevant_not0 = relevant[relevant.classes != \"0\"]\n",
        "relevant_not0.head()\n"
      ],
      "execution_count": 4,
      "outputs": [
        {
          "output_type": "stream",
          "text": [
            "/usr/local/lib/python3.7/dist-packages/ipykernel_launcher.py:7: SettingWithCopyWarning: \n",
            "A value is trying to be set on a copy of a slice from a DataFrame.\n",
            "Try using .loc[row_indexer,col_indexer] = value instead\n",
            "\n",
            "See the caveats in the documentation: https://pandas.pydata.org/pandas-docs/stable/user_guide/indexing.html#returning-a-view-versus-a-copy\n",
            "  import sys\n"
          ],
          "name": "stderr"
        },
        {
          "output_type": "execute_result",
          "data": {
            "text/html": [
              "<div>\n",
              "<style scoped>\n",
              "    .dataframe tbody tr th:only-of-type {\n",
              "        vertical-align: middle;\n",
              "    }\n",
              "\n",
              "    .dataframe tbody tr th {\n",
              "        vertical-align: top;\n",
              "    }\n",
              "\n",
              "    .dataframe thead th {\n",
              "        text-align: right;\n",
              "    }\n",
              "</style>\n",
              "<table border=\"1\" class=\"dataframe\">\n",
              "  <thead>\n",
              "    <tr style=\"text-align: right;\">\n",
              "      <th></th>\n",
              "      <th>Unnamed: 0</th>\n",
              "      <th>tweet__id</th>\n",
              "      <th>tweet__text</th>\n",
              "      <th>user__username</th>\n",
              "      <th>tag__title</th>\n",
              "      <th>relevant</th>\n",
              "      <th>2 - In favor</th>\n",
              "      <th>2 - Against</th>\n",
              "      <th>2 - Neutral</th>\n",
              "      <th>3 - Yes</th>\n",
              "      <th>time_annotated</th>\n",
              "      <th>classes</th>\n",
              "    </tr>\n",
              "  </thead>\n",
              "  <tbody>\n",
              "    <tr>\n",
              "      <th>0</th>\n",
              "      <td>0</td>\n",
              "      <td>1339644219015766016</td>\n",
              "      <td>JOB ALERT: Postdoctoral Opportunity: Climate C...</td>\n",
              "      <td>mala</td>\n",
              "      <td>Large sample of climate tweets 2</td>\n",
              "      <td>1</td>\n",
              "      <td>0</td>\n",
              "      <td>0</td>\n",
              "      <td>1</td>\n",
              "      <td>0</td>\n",
              "      <td>2021-04-01 20:23:56.815080+00:00</td>\n",
              "      <td>3</td>\n",
              "    </tr>\n",
              "    <tr>\n",
              "      <th>1</th>\n",
              "      <td>1</td>\n",
              "      <td>1189303279697780741</td>\n",
              "      <td>Whistleblower says CDC backed away from climat...</td>\n",
              "      <td>mala</td>\n",
              "      <td>Large sample of climate tweets 2</td>\n",
              "      <td>1</td>\n",
              "      <td>0</td>\n",
              "      <td>0</td>\n",
              "      <td>1</td>\n",
              "      <td>0</td>\n",
              "      <td>2021-04-01 20:23:49.298046+00:00</td>\n",
              "      <td>3</td>\n",
              "    </tr>\n",
              "    <tr>\n",
              "      <th>2</th>\n",
              "      <td>2</td>\n",
              "      <td>1088038576758104065</td>\n",
              "      <td>Facing changes — in economics, climate change ...</td>\n",
              "      <td>mala</td>\n",
              "      <td>Large sample of climate tweets 2</td>\n",
              "      <td>1</td>\n",
              "      <td>0</td>\n",
              "      <td>0</td>\n",
              "      <td>1</td>\n",
              "      <td>0</td>\n",
              "      <td>2021-04-01 20:23:29.477801+00:00</td>\n",
              "      <td>3</td>\n",
              "    </tr>\n",
              "    <tr>\n",
              "      <th>3</th>\n",
              "      <td>3</td>\n",
              "      <td>1200848190028693504</td>\n",
              "      <td>@CNN ...promoting \"Planetary emergency\" since ...</td>\n",
              "      <td>mala</td>\n",
              "      <td>Large sample of climate tweets 2</td>\n",
              "      <td>1</td>\n",
              "      <td>0</td>\n",
              "      <td>1</td>\n",
              "      <td>0</td>\n",
              "      <td>0</td>\n",
              "      <td>2021-04-01 20:23:21.248432+00:00</td>\n",
              "      <td>2</td>\n",
              "    </tr>\n",
              "    <tr>\n",
              "      <th>4</th>\n",
              "      <td>4</td>\n",
              "      <td>1314278326949892096</td>\n",
              "      <td>Recourse, Greenpeace, Earthlife Africa and Cen...</td>\n",
              "      <td>mala</td>\n",
              "      <td>Large sample of climate tweets 2</td>\n",
              "      <td>1</td>\n",
              "      <td>1</td>\n",
              "      <td>0</td>\n",
              "      <td>0</td>\n",
              "      <td>1</td>\n",
              "      <td>2021-04-01 20:22:59.123097+00:00</td>\n",
              "      <td>1</td>\n",
              "    </tr>\n",
              "  </tbody>\n",
              "</table>\n",
              "</div>"
            ],
            "text/plain": [
              "   Unnamed: 0            tweet__id  ...                    time_annotated classes\n",
              "0           0  1339644219015766016  ...  2021-04-01 20:23:56.815080+00:00       3\n",
              "1           1  1189303279697780741  ...  2021-04-01 20:23:49.298046+00:00       3\n",
              "2           2  1088038576758104065  ...  2021-04-01 20:23:29.477801+00:00       3\n",
              "3           3  1200848190028693504  ...  2021-04-01 20:23:21.248432+00:00       2\n",
              "4           4  1314278326949892096  ...  2021-04-01 20:22:59.123097+00:00       1\n",
              "\n",
              "[5 rows x 12 columns]"
            ]
          },
          "metadata": {
            "tags": []
          },
          "execution_count": 4
        }
      ]
    },
    {
      "cell_type": "code",
      "metadata": {
        "colab": {
          "base_uri": "https://localhost:8080/",
          "height": 306
        },
        "id": "FGBcpAjuMh-v",
        "outputId": "2a55008e-16d5-4915-cf50-2260458c6435"
      },
      "source": [
        "#checking for duplicates. Tweets that have errornously been multi-labeled\n",
        "#calculate rowsums\n",
        "relevant_not0[\"dup_check\"] =relevant_not0[[\"2 - In favor\", \"2 - Against\", \"2 - Neutral\"]].sum(axis=1)\n",
        "#filter out greater than 1\n",
        "duplicates = relevant_not0[relevant_not0.dup_check > 1] \n",
        "#only one tweet seems to be assigned to both in favor and against. \n",
        "\n",
        "#Dropping it since we are dealing with a multi-class problem\n",
        "relevant_not0 = relevant_not0[relevant_not0.dup_check == 1]\n",
        "relevant_not0.head()\n",
        "#selecting only relevant columns\n",
        "relevant_not0 = relevant_not0.drop(columns=[\"user__username\", \"tag__title\",\"relevant\", \"2 - In favor\", \"2 - Against\",\"2 - Neutral\",\"3 - Yes\", \"Unnamed: 0\",\"time_annotated\", \"dup_check\"])\n",
        "relevant_not0.head()"
      ],
      "execution_count": 5,
      "outputs": [
        {
          "output_type": "stream",
          "text": [
            "/usr/local/lib/python3.7/dist-packages/ipykernel_launcher.py:3: SettingWithCopyWarning: \n",
            "A value is trying to be set on a copy of a slice from a DataFrame.\n",
            "Try using .loc[row_indexer,col_indexer] = value instead\n",
            "\n",
            "See the caveats in the documentation: https://pandas.pydata.org/pandas-docs/stable/user_guide/indexing.html#returning-a-view-versus-a-copy\n",
            "  This is separate from the ipykernel package so we can avoid doing imports until\n"
          ],
          "name": "stderr"
        },
        {
          "output_type": "execute_result",
          "data": {
            "text/html": [
              "<div>\n",
              "<style scoped>\n",
              "    .dataframe tbody tr th:only-of-type {\n",
              "        vertical-align: middle;\n",
              "    }\n",
              "\n",
              "    .dataframe tbody tr th {\n",
              "        vertical-align: top;\n",
              "    }\n",
              "\n",
              "    .dataframe thead th {\n",
              "        text-align: right;\n",
              "    }\n",
              "</style>\n",
              "<table border=\"1\" class=\"dataframe\">\n",
              "  <thead>\n",
              "    <tr style=\"text-align: right;\">\n",
              "      <th></th>\n",
              "      <th>tweet__id</th>\n",
              "      <th>tweet__text</th>\n",
              "      <th>classes</th>\n",
              "    </tr>\n",
              "  </thead>\n",
              "  <tbody>\n",
              "    <tr>\n",
              "      <th>0</th>\n",
              "      <td>1339644219015766016</td>\n",
              "      <td>JOB ALERT: Postdoctoral Opportunity: Climate C...</td>\n",
              "      <td>3</td>\n",
              "    </tr>\n",
              "    <tr>\n",
              "      <th>1</th>\n",
              "      <td>1189303279697780741</td>\n",
              "      <td>Whistleblower says CDC backed away from climat...</td>\n",
              "      <td>3</td>\n",
              "    </tr>\n",
              "    <tr>\n",
              "      <th>2</th>\n",
              "      <td>1088038576758104065</td>\n",
              "      <td>Facing changes — in economics, climate change ...</td>\n",
              "      <td>3</td>\n",
              "    </tr>\n",
              "    <tr>\n",
              "      <th>3</th>\n",
              "      <td>1200848190028693504</td>\n",
              "      <td>@CNN ...promoting \"Planetary emergency\" since ...</td>\n",
              "      <td>2</td>\n",
              "    </tr>\n",
              "    <tr>\n",
              "      <th>4</th>\n",
              "      <td>1314278326949892096</td>\n",
              "      <td>Recourse, Greenpeace, Earthlife Africa and Cen...</td>\n",
              "      <td>1</td>\n",
              "    </tr>\n",
              "  </tbody>\n",
              "</table>\n",
              "</div>"
            ],
            "text/plain": [
              "             tweet__id  ... classes\n",
              "0  1339644219015766016  ...       3\n",
              "1  1189303279697780741  ...       3\n",
              "2  1088038576758104065  ...       3\n",
              "3  1200848190028693504  ...       2\n",
              "4  1314278326949892096  ...       1\n",
              "\n",
              "[5 rows x 3 columns]"
            ]
          },
          "metadata": {
            "tags": []
          },
          "execution_count": 5
        }
      ]
    },
    {
      "cell_type": "code",
      "metadata": {
        "colab": {
          "base_uri": "https://localhost:8080/"
        },
        "id": "yI1eEvQsUBjY",
        "outputId": "b7a016d0-c944-4fe4-da61-bcbd3416ff87"
      },
      "source": [
        "#extracting only tweets as features\n",
        "features = relevant_not0.iloc[:,1].values\n",
        "#extracting labels\n",
        "all_labels = relevant_not0.iloc[:,2].values\n",
        "#removing dtype object\n",
        "all_labels = np.array(all_labels, dtype='float')\n",
        "all_labels"
      ],
      "execution_count": 6,
      "outputs": [
        {
          "output_type": "execute_result",
          "data": {
            "text/plain": [
              "array([3., 3., 3., ..., 1., 3., 3.])"
            ]
          },
          "metadata": {
            "tags": []
          },
          "execution_count": 6
        }
      ]
    },
    {
      "cell_type": "code",
      "metadata": {
        "id": "UdI4T0vGWqNE"
      },
      "source": [
        "#preprocessing tweets\n",
        "processed_features = []\n",
        "\n",
        "for sentence in range(0, len(features)):   \n",
        "    #Removing special characters\n",
        "    processed_feature = re.sub(r'\\W', ' ', str(features[sentence]))\n",
        "    #removing refered usernames\n",
        "    processed_feature = ' '.join(re.sub(\"(@[A-Za-z0-9]+)|([^0-9A-Za-z \\t])|(\\w+:\\/\\/\\S+|(\\s([@#][\\w_-]+)))\",\" \",processed_feature).split())\n",
        "    #removing single characters\n",
        "    processed_feature= re.sub(r'\\s+[a-zA-Z]\\s+', ' ', processed_feature)\n",
        "    #Removing single characters from the start\n",
        "    processed_feature = re.sub(r'\\^[a-zA-Z]\\s+', ' ', processed_feature) \n",
        "    #Substituting multiple spaces with single space\n",
        "    processed_feature = re.sub(r'\\s+', ' ', processed_feature, flags=re.I)\n",
        "    #Removing prefixed 'b'\n",
        "    processed_feature = re.sub(r'^b\\s+', '', processed_feature)\n",
        "    #removing @\n",
        "    processed_feature = re.sub(r'@[\\w]+','',processed_feature)\n",
        "    #removing numbers\n",
        "    processed_feature = re.sub(r'[0-9]+', '', processed_feature)\n",
        "    # Removing hashtags\n",
        "    processed_feature = re.sub(r'#\\w*', ' ', processed_feature)\n",
        "    #removing url\n",
        "    processed_feature = re.sub(r\"http\\S+\", \"\", processed_feature)\n",
        "    #Converting to Lowercase\n",
        "    processed_feature = processed_feature.lower()\n",
        "\n",
        "    processed_features.append(processed_feature)"
      ],
      "execution_count": 7,
      "outputs": []
    },
    {
      "cell_type": "code",
      "metadata": {
        "id": "CVqwCRVe8jyO"
      },
      "source": [
        "#specifying parameters\n",
        "parameters = [\n",
        "    {\n",
        "    'vect__max_df': (0.5,0.7,0.6), #ignore terms with frequency higher than aforementioned\n",
        "        'vect__min_df': (3,5), #ignore lower frequencies than aforementioned\n",
        "        'vect__ngram_range': ((1, 2),), #unigrams and bigrams\n",
        "        'clf__estimator__kernel': ['rbf'], #gausian kernel\n",
        "    'clf__estimator__gamma': [1e-1, 1e0, 1e1,], #a gamma of zero\n",
        "        'clf__estimator__C': [1,2],\n",
        "        'clf__estimator__class_weight': [None, \"balanced\"] #balanced weight\n",
        "    } ,\n",
        "    {\n",
        "        'vect__max_df': (0.5,0.7,0.6),\n",
        "        'vect__min_df': (3,5),\n",
        "        'vect__ngram_range': ((1, 2),),\n",
        "        'clf__estimator__kernel': ['linear'], #linear kernel\n",
        "    'clf__estimator__C': [1,2]\n",
        "    }\n",
        "]"
      ],
      "execution_count": 8,
      "outputs": []
    },
    {
      "cell_type": "code",
      "metadata": {
        "id": "ZQv_UCVxeGUw"
      },
      "source": [
        "# building a pipeline\n",
        "pipeline = Pipeline([('vect', TfidfVectorizer()),                     \n",
        "    ('clf', OneVsRestClassifier(SVC(probability=True))),\n",
        "])"
      ],
      "execution_count": 9,
      "outputs": []
    },
    {
      "cell_type": "code",
      "metadata": {
        "id": "TgTn8OKX8V01"
      },
      "source": [
        "#splitting the dataset to trian and test set\n",
        "#80 percent of data for training, 20 percent for testing\n",
        "from sklearn.model_selection import train_test_split\n",
        "\n",
        "X_train, X_test, y_train, y_test = train_test_split(processed_features, all_labels, test_size=0.4, random_state=42)"
      ],
      "execution_count": 10,
      "outputs": []
    },
    {
      "cell_type": "code",
      "metadata": {
        "id": "WfRSuZDA7I5y"
      },
      "source": [
        "#grid search\n",
        "grid_search = GridSearchCV(pipeline, param_grid=parameters, n_jobs=-1, verbose=1)"
      ],
      "execution_count": 11,
      "outputs": []
    },
    {
      "cell_type": "code",
      "metadata": {
        "colab": {
          "base_uri": "https://localhost:8080/"
        },
        "id": "QBQCaWbPrpmj",
        "outputId": "248adc04-c291-4119-d231-83d916c6eeac"
      },
      "source": [
        "#fitting the classifier\n",
        "classifier = grid_search.fit(X_train, y_train)"
      ],
      "execution_count": 12,
      "outputs": [
        {
          "output_type": "stream",
          "text": [
            "Fitting 5 folds for each of 84 candidates, totalling 420 fits\n"
          ],
          "name": "stdout"
        },
        {
          "output_type": "stream",
          "text": [
            "[Parallel(n_jobs=-1)]: Using backend LokyBackend with 2 concurrent workers.\n",
            "[Parallel(n_jobs=-1)]: Done  46 tasks      | elapsed:   34.6s\n",
            "[Parallel(n_jobs=-1)]: Done 196 tasks      | elapsed:  2.5min\n",
            "[Parallel(n_jobs=-1)]: Done 420 out of 420 | elapsed:  5.2min finished\n"
          ],
          "name": "stderr"
        }
      ]
    },
    {
      "cell_type": "code",
      "metadata": {
        "id": "j8LFUocoTqKu"
      },
      "source": [
        "#predicting\n",
        "y_predict = classifier.predict(X_test)\n",
        "#y_predict\n",
        "#np.array(X_test)[(y_test == '1') & (y_predict == '1')]"
      ],
      "execution_count": 13,
      "outputs": []
    },
    {
      "cell_type": "code",
      "metadata": {
        "id": "kPZrnIR6UrW4"
      },
      "source": [
        "#df = pd.DataFrame.from_dict(grid_search.cv_results_)\n",
        "#df.head()\n",
        "#df.sort_values(\"mean_test_score\", ascending=False)"
      ],
      "execution_count": 14,
      "outputs": []
    },
    {
      "cell_type": "code",
      "metadata": {
        "colab": {
          "base_uri": "https://localhost:8080/"
        },
        "id": "pmnpiNahnXOe",
        "outputId": "cbe2a9c9-108a-4b09-f6fb-0efb015e8a13"
      },
      "source": [
        "#confusion matrix\n",
        "from sklearn.metrics import classification_report, confusion_matrix\n",
        "print(confusion_matrix(y_test, y_predict))\n",
        "print(classification_report(y_test, y_predict))"
      ],
      "execution_count": 15,
      "outputs": [
        {
          "output_type": "stream",
          "text": [
            "[[124  26  22]\n",
            " [ 58  34   6]\n",
            " [ 63  17 127]]\n",
            "              precision    recall  f1-score   support\n",
            "\n",
            "         1.0       0.51      0.72      0.59       172\n",
            "         2.0       0.44      0.35      0.39        98\n",
            "         3.0       0.82      0.61      0.70       207\n",
            "\n",
            "    accuracy                           0.60       477\n",
            "   macro avg       0.59      0.56      0.56       477\n",
            "weighted avg       0.63      0.60      0.60       477\n",
            "\n"
          ],
          "name": "stdout"
        }
      ]
    },
    {
      "cell_type": "code",
      "metadata": {
        "colab": {
          "base_uri": "https://localhost:8080/",
          "height": 606
        },
        "id": "aeJ1B69loBBR",
        "outputId": "073401c8-b343-43a8-ded8-b8ee3f03678e"
      },
      "source": [
        "#normalizing a confusion matrix\n",
        "import seaborn as sns\n",
        "import matplotlib.pyplot as plt\n",
        "\n",
        "cm = confusion_matrix(y_test, y_predict)\n",
        "# Normalise\n",
        "cmn = cm.astype('float') / cm.sum(axis=1)[:, np.newaxis]\n",
        "cm.sum(axis=1)[:, np.newaxis]\n",
        "fig, ax = plt.subplots(figsize=(10,10))\n",
        "sns.heatmap(cmn, annot=True, fmt='.2f')\n",
        "plt.ylabel('Actual')\n",
        "plt.xlabel('Predicted')\n",
        "plt.show(block=False)"
      ],
      "execution_count": 16,
      "outputs": [
        {
          "output_type": "display_data",
          "data": {
            "image/png": "[encoded data removed]",
            "text/plain": [
              "<Figure size 720x720 with 2 Axes>"
            ]
          },
          "metadata": {
            "tags": [],
            "needs_background": "light"
          }
        }
      ]
    },
    {
      "cell_type": "code",
      "metadata": {
        "colab": {
          "base_uri": "https://localhost:8080/"
        },
        "id": "7lXjTrEfoKb2",
        "outputId": "6582f7ab-9d4d-4be7-86c0-41404adc9953"
      },
      "source": [
        "#evaluating the model with ROC AUC score\n",
        "from sklearn.metrics import roc_auc_score\n",
        "roc_auc_score(y_test, classifier.predict_proba(X_test), multi_class=\"ovr\")\n",
        "\n",
        "#with a higher score than 0.5, signifies that our model is useful."
      ],
      "execution_count": 17,
      "outputs": [
        {
          "output_type": "execute_result",
          "data": {
            "text/plain": [
              "0.7700966141872013"
            ]
          },
          "metadata": {
            "tags": []
          },
          "execution_count": 17
        }
      ]
    },
    {
      "cell_type": "code",
      "metadata": {
        "colab": {
          "base_uri": "https://localhost:8080/"
        },
        "id": "aC_lk8OYoSD9",
        "outputId": "04d67552-b0c6-498d-cbc7-350fc194bec1"
      },
      "source": [
        "#evaluating the model using cross validation\n",
        "from sklearn.model_selection import cross_val_score\n",
        "all_accuracies = cross_val_score(estimator=classifier, X=X_train, y=y_train, cv=5)\n",
        "\n",
        "#returning accuracies of the folds\n",
        "print(all_accuracies)"
      ],
      "execution_count": 18,
      "outputs": [
        {
          "output_type": "stream",
          "text": [
            "Fitting 5 folds for each of 84 candidates, totalling 420 fits\n"
          ],
          "name": "stdout"
        },
        {
          "output_type": "stream",
          "text": [
            "[Parallel(n_jobs=-1)]: Using backend LokyBackend with 2 concurrent workers.\n",
            "[Parallel(n_jobs=-1)]: Done  46 tasks      | elapsed:   20.8s\n",
            "[Parallel(n_jobs=-1)]: Done 196 tasks      | elapsed:  1.6min\n",
            "[Parallel(n_jobs=-1)]: Done 420 out of 420 | elapsed:  3.3min finished\n"
          ],
          "name": "stderr"
        },
        {
          "output_type": "stream",
          "text": [
            "Fitting 5 folds for each of 84 candidates, totalling 420 fits\n"
          ],
          "name": "stdout"
        },
        {
          "output_type": "stream",
          "text": [
            "[Parallel(n_jobs=-1)]: Using backend LokyBackend with 2 concurrent workers.\n",
            "[Parallel(n_jobs=-1)]: Done  46 tasks      | elapsed:   20.5s\n",
            "[Parallel(n_jobs=-1)]: Done 196 tasks      | elapsed:  1.6min\n",
            "[Parallel(n_jobs=-1)]: Done 420 out of 420 | elapsed:  3.3min finished\n"
          ],
          "name": "stderr"
        },
        {
          "output_type": "stream",
          "text": [
            "Fitting 5 folds for each of 84 candidates, totalling 420 fits\n"
          ],
          "name": "stdout"
        },
        {
          "output_type": "stream",
          "text": [
            "[Parallel(n_jobs=-1)]: Using backend LokyBackend with 2 concurrent workers.\n",
            "[Parallel(n_jobs=-1)]: Done  46 tasks      | elapsed:   20.1s\n",
            "[Parallel(n_jobs=-1)]: Done 196 tasks      | elapsed:  1.5min\n",
            "[Parallel(n_jobs=-1)]: Done 420 out of 420 | elapsed:  3.2min finished\n"
          ],
          "name": "stderr"
        },
        {
          "output_type": "stream",
          "text": [
            "Fitting 5 folds for each of 84 candidates, totalling 420 fits\n"
          ],
          "name": "stdout"
        },
        {
          "output_type": "stream",
          "text": [
            "[Parallel(n_jobs=-1)]: Using backend LokyBackend with 2 concurrent workers.\n",
            "[Parallel(n_jobs=-1)]: Done  46 tasks      | elapsed:   20.6s\n",
            "[Parallel(n_jobs=-1)]: Done 196 tasks      | elapsed:  1.6min\n",
            "[Parallel(n_jobs=-1)]: Done 420 out of 420 | elapsed:  3.3min finished\n"
          ],
          "name": "stderr"
        },
        {
          "output_type": "stream",
          "text": [
            "Fitting 5 folds for each of 84 candidates, totalling 420 fits\n"
          ],
          "name": "stdout"
        },
        {
          "output_type": "stream",
          "text": [
            "[Parallel(n_jobs=-1)]: Using backend LokyBackend with 2 concurrent workers.\n",
            "[Parallel(n_jobs=-1)]: Done  46 tasks      | elapsed:   21.0s\n",
            "[Parallel(n_jobs=-1)]: Done 196 tasks      | elapsed:  1.6min\n",
            "[Parallel(n_jobs=-1)]: Done 420 out of 420 | elapsed:  3.4min finished\n"
          ],
          "name": "stderr"
        },
        {
          "output_type": "stream",
          "text": [
            "[0.52447552 0.5034965  0.54545455 0.6013986  0.53521127]\n"
          ],
          "name": "stdout"
        }
      ]
    },
    {
      "cell_type": "code",
      "metadata": {
        "colab": {
          "base_uri": "https://localhost:8080/"
        },
        "id": "YcEQTJy1oY9f",
        "outputId": "8230fc2f-5895-45eb-8d82-7f01ba96e441"
      },
      "source": [
        "#printing standard deviation of accuracies\n",
        "print(all_accuracies.std())\n",
        "\n",
        "#earning a low variance meaning; a good indicator that the model will perform similar on all test sets and the prediction obtained is not by chance"
      ],
      "execution_count": 19,
      "outputs": [
        {
          "output_type": "stream",
          "text": [
            "0.03278975705833246\n"
          ],
          "name": "stdout"
        }
      ]
    },
    {
      "cell_type": "code",
      "metadata": {
        "colab": {
          "base_uri": "https://localhost:8080/"
        },
        "id": "pbwlW5W0o6zW",
        "outputId": "ec15dba8-6c85-4bca-e162-5cacf0315040"
      },
      "source": [
        "#tweets classified as \"in favor\" but predicted as \"against\"\n",
        "np.array(X_test)[(y_test == '1') & (y_predict == '2')]\n",
        "##tweets classified as \"against\" but predicted as \"infavor\"\n",
        "np.array(X_test)[(y_test == '2') & (y_predict == '1')]\n",
        "##tweets classified as \"in favor\" but predicted as \"neutral\"\n",
        "np.array(X_test)[(y_test == '1') & (y_predict == '3')]\n",
        "##tweets classfied as neutral but predicted as in favor\n",
        "np.array(X_test)[(y_test == '3') & (y_predict == '1')]"
      ],
      "execution_count": 20,
      "outputs": [
        {
          "output_type": "stream",
          "text": [
            "/usr/local/lib/python3.7/dist-packages/ipykernel_launcher.py:2: FutureWarning: elementwise comparison failed; returning scalar instead, but in the future will perform elementwise comparison\n",
            "  \n",
            "/usr/local/lib/python3.7/dist-packages/ipykernel_launcher.py:4: FutureWarning: elementwise comparison failed; returning scalar instead, but in the future will perform elementwise comparison\n",
            "  after removing the cwd from sys.path.\n",
            "/usr/local/lib/python3.7/dist-packages/ipykernel_launcher.py:6: FutureWarning: elementwise comparison failed; returning scalar instead, but in the future will perform elementwise comparison\n",
            "  \n",
            "/usr/local/lib/python3.7/dist-packages/ipykernel_launcher.py:8: FutureWarning: elementwise comparison failed; returning scalar instead, but in the future will perform elementwise comparison\n",
            "  \n"
          ],
          "name": "stderr"
        },
        {
          "output_type": "execute_result",
          "data": {
            "text/plain": [
              "array([], shape=(0, 477), dtype='<U833')"
            ]
          },
          "metadata": {
            "tags": []
          },
          "execution_count": 20
        }
      ]
    },
    {
      "cell_type": "markdown",
      "metadata": {
        "id": "00uzdr4H1nqz"
      },
      "source": [
        "#Classified as in favor but predicted as against\n",
        "Tweets containing words frequently used by climate change deniers. Even though \n",
        "\n",
        "\n",
        "they are in favor, they have been automatically classified as against as the example shows.\n",
        "\n",
        "\"seavoicenews climate change can believe that people really do call that hoax did they not go to school\"\n",
        "\n",
        "\"iwashrren are you saying that climate change is hoax have read of this  co dmhthfnz if you can ignore the facts visual signs and the large majority of scientists you re lost\"\n",
        "\n",
        "Probably because it contains the word denial in it\n",
        "\n",
        "\"forest is on fire while everyone in denial of climate change poverty is growing an alarming rate while r stupefied by ambanis marriage card rate camels were shot down for drinking water for which there were no protests while there were protests when rapists were shot down\"\n",
        "\n",
        "Probably because it ends with a \"no\" right after it mentions addressing climate change. It aknowledges the impact humans have on the environment and the need to address climate change.\n",
        "\n",
        "\"snaftastic thehill mehdirhasan repaoc aoc yes humans have an impact on the environment drastically changing our society to address climate change no \"\n",
        "\n",
        "Not only is it reminding a denier not to attack a politician but also that climate change action is immediate\n",
        "\n",
        "\"hold_co aoc have you the take away here isn an opportunity to snipe at politician but the need to acknowledge the fact that climate change is an immediate concern\"\n",
        "\n",
        "Probably because it contains a strong word like pathetic, horror that is immaginable to be used in a denial sense\n",
        "\n",
        "\"pnpcbc rodphillips what pathetic excuse for avoiding admitting that climate change is happening\"\n",
        "\n",
        "\"this is horror on very grand scale anyone who says there is no climate change must be completely mad\"\n",
        "\n",
        "Perhaps it's because it has a phrase \"don't believe in climate change\"\n",
        "\n",
        "\" pauldoroshenko mcfslaw even if you for whatever reason don believe in climate change it the wildest thing to me that people can watch this girl and somehow get outraged anyone angry out there willing to walk me through this what gives\"\n",
        "\n",
        "\"truthseekeru meugeniamontiel charliekirk you re the one that that linked patrick moore m just debunking him again those names you keep throwing at me moore bastrati happer lindzen are the  of people or scientist that don believe in climate change believe the majority not the minority\"\n",
        "\n",
        "Probably because it has the word \"global warming\"\n",
        "\n",
        "\"aontuie toibin climate change is like rug on valium have you not noticed global warming has caused summer to become autumn\"\n",
        "\n",
        "###Humanly Hard to Annotate\n",
        "Tweet defending a denier icon and defending ideas against climate change knowledge\n",
        "\n",
        "\"have you been drinking tonight did you honestly believe that think president trump is responsible for so called climate change that climate change is responsible for contagion outbreaks\"\n",
        "\n",
        "###Mistakenly annotated as in favor\n",
        "\n",
        "\"cogitoergosumau slayerofmemes frankwi pauldokidd granitereason erichschulz jwspry jagster matt_hew_jones shuangrove debunk the climate change hoax\"\n",
        "\n",
        "\"barrynishizawa she wanted to burn his house down but that would contribute to climate change lmaoo\"\n",
        "\n",
        "###Obviously in favor tweets\n",
        "\n",
        "\"repdebhaaland trillions for climate change\"\n",
        "\n",
        "\"dams were designed for time before climate change don hold up anymore\"\n",
        "\n",
        "\"texasismyhomie jimmykimmel but climate change is actually real and not bronze age fairy tale\"\n",
        "\n",
        "\"uber but for climate change\"\n",
        "\n",
        "#Classified as against but predicted as in favor\n",
        "Probably because it contains the word greenpeace, sustainable, left\n",
        "\n",
        "\"greenpeace is fraud climate change is not dangerous at  ppm not even at\"\n",
        "\n",
        "\"swedish scientist says humans should become cannibals to fight climate change because eating human flesh is more sustainable than the meat industry  co dvzggvoi via mailonline\"\n",
        "\n",
        "\"skyrider peacethruhope these climate change idiots give me flu symptoms why does the left treat the country like we are brain free everyone of their policies are directly from this guy playbook who died in  clinton did thesis on this guy neversocialism  co hzvufj\"\n",
        "\n",
        "Probably because it mentions greta, although it is attacking her\n",
        "\n",
        "\" rachael_swindon jeremycorbyn gretathunberg theresa_may an elite agenda thats all climate change is lets look at the weather  years ago bad weather equals weather pattern today its climate change all this is driven by the elite whilst the sheeples follow look into it guys\"\n",
        "\n",
        "It mentions fighters against climate change but it is taking a stance against\n",
        "\"theemanfifty exactly what hypocrite barry gardiner is unfortunately many many of these so called fighters against climate change especially the liberal left are nothing more than hypocrites first second and third fourth etc they need to practice what they preach\"\n",
        "\n",
        "\n",
        "Perhaps because it has climate friendly words such as environmental protection and global cooperation.\n",
        "\n",
        "\"climate change is the biggest hoax created to justify globalization it different from environmental protection that everyone can do locally has to have global cooperation which never was there and never will be\"\n",
        "\n",
        "Perhaps because it mentions that poverty, hunger and technology have an impact on climate change.\n",
        "\n",
        "\"andrsil mandkdy gretathunberg perhaps she should be addressing poverty hunger and technology all of these have an influence on climate change stop mollycoddling this person encouraging school strikes is disgusting if take child out of school it unauthorised absence and get fined\"\n",
        "\n",
        "It's probably because it is sentimentally aknowledging the fatal effects of climate change\n",
        "\n",
        "\"yungvan climate change gonna kill us all anyway fuck it do what want\"\n",
        "\n",
        "Probably because it mentions donating money to fight climate change\n",
        "\n",
        "\"bezos donating b to address climate change feels like me dumping my garbage on my neighbor lawn for decade then offering to go halfsies on the cleanup while continuing to dump garbage on their lawn\"\n",
        "\n",
        "####Mistakenly Annotated as against\n",
        "\"while trump made headlines by withdrawing from the paris agreement obama era technocrats also defended corporate interests from more stringent and binding emissions targets that would have helped protect the entire world from climate disaster  co nizvmuqt\"\n",
        "\n",
        "\"oooh look at the pretty lights in the ocean what amazing natural phenomenon wait it because the ocean is warming up and totally shouldn be due to climate change  co vmbnhfwq\"\n",
        "#Classified as In Favor but predicted as Neutral\n",
        "Probably because it directs to a link even though it gives a stance\n",
        "\n",
        "\"climate change is the greatest health challenge we face in australia even after we recover from the coronavirus pandemic  co oqqhwwha\"\n",
        "\n",
        "Perhaps because it just questions the degree of denial\n",
        "\n",
        "\"realdonaldtrump you really don know anything about climate change do you\"\n",
        "\n",
        "Before clear annotation rules were developed, some tweets just giving information were annotated as in favor.\n",
        "\n",
        "#Classified as Neutral but predicted as In Favor\n",
        "Probably because it has the word climate change in it. Although it's not about climate change and does not take any stance.\n",
        "\n",
        "\"the new covid  earth observation dashboard allows users to track changes in air and water quality climate change economic activity and agriculture  co wdojunbyl eodata spacedata covid\"\n",
        "\n",
        "Perhaps it's because it is explaining how the farming innovation tackles climate change. Although the farmer seems to offer information\n",
        "\n",
        "\"davinde aprajitasarangi thanks am farmer have developed some veraity of paddy which produce germinated brown rice this is unique genetic paddy which is highly tolerance to climate change and also highelding highly nutritious and medicinal value am in search of finance for organic farming  co dskktnzli\"\n",
        "\n",
        "Perhaps because it explains what NASA admits. Even though the tweet is offerring information.\n",
        "\n",
        "\"nasa admits that climate change occurs because of changes in earth solar orbit and not because of suvs and fossil fuels  co uvfalmp  co fhzznyg\""
      ]
    },
    {
      "cell_type": "markdown",
      "metadata": {
        "id": "IoTzq0QXb0LD"
      },
      "source": [
        "Understanding Stance Drivers"
      ]
    },
    {
      "cell_type": "code",
      "metadata": {
        "colab": {
          "base_uri": "https://localhost:8080/"
        },
        "id": "gyU9ShURbrLb",
        "outputId": "809ece27-3f11-446b-8ad1-c493f5f02510"
      },
      "source": [
        "#classified as against and predicted as against\n",
        "np.array(X_test)[(y_test == '2') & (y_predict == '2')]\n",
        "#classified as for and predicted as such\n",
        "np.array(X_test)[(y_test == '1') & (y_predict == '1')]"
      ],
      "execution_count": 21,
      "outputs": [
        {
          "output_type": "stream",
          "text": [
            "/usr/local/lib/python3.7/dist-packages/ipykernel_launcher.py:2: FutureWarning: elementwise comparison failed; returning scalar instead, but in the future will perform elementwise comparison\n",
            "  \n",
            "/usr/local/lib/python3.7/dist-packages/ipykernel_launcher.py:4: FutureWarning: elementwise comparison failed; returning scalar instead, but in the future will perform elementwise comparison\n",
            "  after removing the cwd from sys.path.\n"
          ],
          "name": "stderr"
        },
        {
          "output_type": "execute_result",
          "data": {
            "text/plain": [
              "array([], shape=(0, 477), dtype='<U833')"
            ]
          },
          "metadata": {
            "tags": []
          },
          "execution_count": 21
        }
      ]
    }
  ]
}